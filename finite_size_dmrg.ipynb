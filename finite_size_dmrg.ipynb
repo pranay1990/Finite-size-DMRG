{
 "cells": [
  {
   "cell_type": "markdown",
   "metadata": {},
   "source": [
    "# Finite size DMRG algo for Heisenberg spin chain system \n",
    "## The Hamiltonian of the Heisenberg spin chain system is given below\n",
    "<div class='math'>\n",
    "    \\begin{equation}\n",
    "    \\hat{{\\cal H}}=\\sum_{i=1}^{N-1} \\vec{\\sigma}_i.\\vec{\\sigma}_{i+1}\n",
    "    \\end{equation}\n",
    "</div>"
   ]
  },
  {
   "cell_type": "code",
   "execution_count": 2,
   "metadata": {},
   "outputs": [],
   "source": [
    "# Importing libraries\n",
    "import numpy as np\n",
    "from numpy import kron\n",
    "from scipy import identity\n",
    "from scipy.sparse.linalg import eigsh\n",
    "import scipy.linalg.lapack as la\n",
    "import math\n",
    "from collections import namedtuple "
   ]
  },
  {
   "cell_type": "markdown",
   "metadata": {},
   "source": [
    "### One-qubit operator\n",
    "Constructing the following one-qubit operator\n",
    "<div class=\"math\">\n",
    "\\begin{align}\n",
    "  \\sigma^z=\\begin{bmatrix}\n",
    "    1 & 0\\\\\n",
    "    0 & -1\n",
    "    \\end{bmatrix}, && \\sigma^+=\\begin{bmatrix}\n",
    "    0 & 2\\\\\n",
    "    0 & 0\n",
    "    \\end{bmatrix}, && \\sigma^-=\\begin{bmatrix}\n",
    "    0 & 0\\\\\n",
    "    2 & 0\n",
    "    \\end{bmatrix}, && I_2=\\begin{bmatrix}\n",
    "    1 & 0\\\\\n",
    "    0 & 1\n",
    "    \\end{bmatrix}.\n",
    "\\end{align}\n",
    "</div>"
   ]
  },
  {
   "cell_type": "code",
   "execution_count": 3,
   "metadata": {},
   "outputs": [],
   "source": [
    "# Step1: constructing one-qubit operator\n",
    "splus=np.zeros([2,2], dtype='float64')\n",
    "sminus=np.zeros([2,2],dtype='float64')\n",
    "sz=np.zeros([2,2],dtype='float64')\n",
    "splus[0,1]=2\n",
    "sminus[1,0]=2\n",
    "sz[0,0]=1\n",
    "sz[1,1]=-1\n",
    "ide=np.eye(2,dtype='float64')"
   ]
  },
  {
   "cell_type": "markdown",
   "metadata": {},
   "source": [
    "### Constructing the two-qubit left Hamiltonian\n",
    "<div class=\"math\">\n",
    "\\begin{equation}\n",
    "  \\hat{{\\cal H}}_{L2} = \\sigma^z\\otimes\\sigma^z+\\frac{1}{2}\\left[\\sigma^+\\otimes \\sigma^- + \\sigma^-\\otimes \\sigma^+ \\right]\n",
    "\\end{equation}\n",
    "</div>"
   ]
  },
  {
   "cell_type": "code",
   "execution_count": 4,
   "metadata": {},
   "outputs": [],
   "source": [
    "# Step2: Constructing two-qubit Hamiltonian\n",
    "H2=kron(sz,sz)+0.5*(kron(splus,sminus)+kron(sminus,splus))"
   ]
  },
  {
   "cell_type": "markdown",
   "metadata": {},
   "source": [
    "#### The namedtuple is a factory function for creating tuple subclasses with named fields. More details regarding factory function you can watch the following youtube [video](https://youtu.be/JSo2f-hhMbE). The general structure of namedtuple is given below\n",
    "\n",
    "<span style=\"color:red;font-style: italic\">\n",
    "collections.namedtuple(typename, field_names, *, rename=False, defaults=None, module=None)\n",
    "</span>\n",
    "\n",
    "**Returns a new tuple subclass named *typename*. The new subclass is used to create tuple-like objects that have fields accessible by attribute lookup as well as being indexable and iterable. Instances of the subclass also have a helpful docstring (with *typename* and *field_names*) and a helpful __repr__() method which lists the tuple contents in a name=value format.**"
   ]
  },
  {
   "cell_type": "code",
   "execution_count": 5,
   "metadata": {},
   "outputs": [],
   "source": [
    "Block = namedtuple(\"Block\", [\"number_spins\", \"basis_size\", \"operator_dict\"])\n",
    "increment_block=namedtuple(\"increment_block\", [\"number_spins\", \"basis_size\", \"operator_dict\"])\n",
    "intial_block=Block(number_spins=2,basis_size=4,\\\n",
    "                   operator_dict={'ham':H2,'sz':kron(ide,sz),'sp':kron(ide,splus),'sm':kron(ide,sminus),\\\n",
    "                                  'id':kron(ide,ide)})\n"
   ]
  },
  {
   "cell_type": "markdown",
   "metadata": {},
   "source": [
    "### The block_increment method does the following work,\n",
    "1. Work 1: <div class=\"math\">\n",
    "    \\begin{eqnarray}\n",
    "    \\hat{{\\cal H}}_{L~i+1} = \\hat{{\\cal H}}_{L~i} \\otimes I_2+\\widetilde{\\sigma}^z_{i}\\otimes\\sigma^z + \\frac{1}{2}\\left[\\widetilde{\\sigma}_{i}^+\\otimes \\sigma^- + \\widetilde{\\sigma}_{i}^-\\otimes \\sigma^+\\right]\n",
    "    \\end{eqnarray}\n",
    "    </div>\n",
    "    where $\\widetilde{\\sigma}^z_{i}=I_{2^{i-1}}\\otimes \\sigma^z$ and $\\widetilde{\\sigma}^\\pm_{i}=I_{2^{i-1}}\\otimes \\sigma^\\pm$\n",
    "    \n",
    "2. Work 2 : In the namedtuple output_block store the number of spins, basis size, and all the operators of the incremented left block ($\\hat{{\\cal H}}_{L~i+1}$)."
   ]
  },
  {
   "cell_type": "code",
   "execution_count": 6,
   "metadata": {},
   "outputs": [],
   "source": [
    "def block_increment(input_block):\n",
    "    # Work 1\n",
    "    HL_new=kron(input_block.operator_dict['ham'],ide)\\\n",
    "    +kron(input_block.operator_dict['sz'],sz)+\\\n",
    "    0.5*(kron(input_block.operator_dict['sp'],sminus)+kron(input_block.operator_dict['sm'],splus))\n",
    "    enlarged_operator_dictionary={'ham':HL_new,'sz':kron(input_block.operator_dict['id'],sz),\\\n",
    "                                 'sp':kron(input_block.operator_dict['id'],splus),\\\n",
    "                                 'sm':kron(input_block.operator_dict['id'],sminus),\\\n",
    "                                 'id':kron(input_block.operator_dict['id'],ide)}\n",
    "    # Work 2\n",
    "    output_block=increment_block(number_spins=input_block.number_spins+1,basis_size=input_block.basis_size*2,\\\n",
    "                                operator_dict=enlarged_operator_dictionary)\n",
    "    return(output_block)"
   ]
  },
  {
   "cell_type": "markdown",
   "metadata": {},
   "source": [
    "#### Before discussing the workflow of the dmrg_step method, we first briefly explain what do we mean by system block (sysblock) and environmental block (envblock). When performing the infinite size DMRG step, the sysblock = envblock = $\\hat{{\\cal H}}_{L~i+1}$=$\\hat{{\\cal H}}_{R~i+2}$. When performing left to right sweep in that case sysblock = $\\hat{{\\cal H}}_{L~i+1}$, and envblock = $\\hat{{\\cal H}}_{R~i+2}$, and during right to left sweep in that case sysblock = $\\hat{{\\cal H}}_{R~i+2}$ and envblock = $\\hat{{\\cal H}}_{L~i+1}$.\n",
    "\n",
    "#### The dmrg_step method has the following work flow,\n",
    "1. Work 1: <div class=\"math\">\n",
    "    \\begin{eqnarray}\n",
    "    \\hat{{\\cal H}}_{s^\\prime}^\\prime = \\hat{{\\cal H}}_{s} \\otimes I_2+\\widetilde{\\sigma}^z_{s}\\otimes\\sigma^z + \\frac{1}{2}\\left[\\widetilde{\\sigma}_{s}^+\\otimes \\sigma^- + \\widetilde{\\sigma}_{s}^-\\otimes \\sigma^+\\right]\n",
    "    \\end{eqnarray}\n",
    "    </div>\n",
    "    where $\\widetilde{\\sigma}^z_{s}=I_{2^{d_s-1}}\\otimes \\sigma^z$ and $\\widetilde{\\sigma}^\\pm_{s}=I_{2^{d_s-1}}\\otimes \\sigma^\\pm$, and $d_s$ is the dimension of the $\\hat{{\\cal H}}_{s}$\n",
    "2. Work 2: If $\\hat{{\\cal H}}_{s}==\\hat{{\\cal H}}_{e}$ then $\\hat{{\\cal H}}_{e^\\prime}^\\prime=\\hat{{\\cal H}}_{s^\\prime}^\\prime$, otherwise, $\\hat{{\\cal H}}_{e^\\prime}^\\prime=\\hat{{\\cal H}}_{e}$. Case 1 is primarily is for infinite size dmrg step.\n",
    "3. Work 3: The **new_block** stores the incremented spins and the basis size of $\\hat{{\\cal H}}_{s^\\prime}^\\prime$, and all the transformed operators or non-transformed operators ($\\widetilde{\\sigma}^z_{s^\\prime}$, $\\widetilde{\\sigma}^\\pm_{s^\\prime}$, $I_{s^\\prime}^\\prime$ and $\\hat{{\\cal H}}_{s^\\prime}^\\prime$) of the $\\hat{{\\cal H}}_{s^\\prime}^\\prime$ Hilbert space.\n",
    "4. Work 4: If $dim.(\\hat{{\\cal H}}_{s}^\\prime)==m$ then do the following,\n",
    "\n",
    "    4.1 Work 4.1: Construct the super Hamiltonian, <div class=\"math\">\n",
    "    \\begin{eqnarray}\n",
    "    \\hat{{\\cal H}}_{sup}=\\hat{{\\cal H}}_{s^\\prime}^\\prime\\otimes I_{d_e^\\prime}+I_{d_s^\\prime}\\otimes\\hat{{\\cal H}}_{e^\\prime}^\\prime + \\widetilde{\\sigma}^z_{s^\\prime}\\otimes \\widetilde{\\sigma}^z_{e^\\prime}+\\widetilde{\\sigma}^+_{s^\\prime}\\otimes \\widetilde{\\sigma}^-_{e^\\prime}+\\widetilde{\\sigma}^-_{s^\\prime}\\otimes \\widetilde{\\sigma}^+_{e^\\prime}\n",
    "    \\end{eqnarray}\n",
    "    </div>\n",
    "   4.2 Work 4.2: Diagonalize the $\\hat{{\\cal H}}_{sup}$ matrix, and stores the ground state (eigvec) in $|\\psi_g\\rangle_{d\\times 1}$ where $d={d^\\prime_s\\times d_e^\\prime}$, and print the ground state energy eigenvalue (eigval) $E_g$.\n",
    "   \n",
    "   4.3 Work 4.3: Partial Trace out the environment block from $|\\psi_g\\rangle_{d \\times 1}$, and it can be simply done by first constructing the matrix $\\rho$ by reshaping $|\\psi_g\\rangle_{d \\times 1}$ into a matrix of dimension ${d^\\prime_s\\times d_e^\\prime}$, and finally the reduced density matrix is written as,<div class=\"math\">\n",
    "    \\begin{equation}\n",
    "    \\rho^\\prime_{d_s^\\prime \\times d_s^\\prime} = \\rho_{d_s^\\prime \\times d_e^\\prime}\\times \\rho^\\dagger_{d_e^\\prime \\times d_s^\\prime}\n",
    "    \\end{equation}\n",
    "    </div>\n",
    "   4.4 Work 4.4: Diagonalize $\\rho^\\prime$, and keep only those eigenvectors who have the largest m eigenvalues. Using these eigenvectors we create the transformation matrix,<div class=\"math\">\n",
    "    \\begin{equation}\n",
    "    \\hat{T}_f= \\sum_{i=1}^m \\lambda_i |\\lambda_i\\rangle \\langle \\lambda_i|\n",
    "    \\end{equation}\n",
    "    </div>\n",
    "   4.5 Work 4.5: Transformation of all the operators,<div class=\"math\">\n",
    "    \\begin{equation}\n",
    "    \\hat{O}^\\prime_{new}=\\hat{T}_f^\\dagger \\hat{O}^\\prime \\hat{T}_f\n",
    "    \\end{equation}\n",
    "    </div>\n",
    "    where $\\hat{O}^\\prime = \\{ \\widetilde{\\sigma}^z_{s^\\prime}, \\widetilde{\\sigma}^\\pm_{s^\\prime}, I_{s^\\prime}^\\prime,\\hat{{\\cal H}}_{s^\\prime}^\\prime \\}$\n",
    "    \n",
    "   4.6 Work 4.6: In the **new_block** stores the number of spins and the basis size of $\\hat{{\\cal H}}_{s^\\prime}^\\prime$, and the transformed operators $\\hat{O}^\\prime_{new}$\n",
    "   \n",
    "5. Work 5: Finally it returns the **new_block**."
   ]
  },
  {
   "cell_type": "code",
   "execution_count": 7,
   "metadata": {},
   "outputs": [],
   "source": [
    "def dmrg_step(sysblock,envblock,m):\n",
    "    # Work 1\n",
    "    sysblock_new=block_increment(sysblock)\n",
    "    # Work 2\n",
    "    if sysblock is envblock:  # no need to recalculate a second time\n",
    "        envblock_new = sysblock_new\n",
    "    else:\n",
    "        envblock_new = envblock\n",
    "    # Work 3\n",
    "    new_block=sysblock_new\n",
    "    # Work 4\n",
    "    if sysblock_new.basis_size > m:\n",
    "        # Work 4.1\n",
    "        super_ham=kron(sysblock_new.operator_dict['ham'],envblock_new.operator_dict['id'])+\\\n",
    "        kron(sysblock_new.operator_dict['id'],envblock_new.operator_dict['ham'])+\\\n",
    "        kron(sysblock_new.operator_dict['sz'],envblock_new.operator_dict['sz'])+\\\n",
    "        0.5*(kron(sysblock_new.operator_dict['sp'],envblock_new.operator_dict['sm'])+\\\n",
    "             kron(sysblock_new.operator_dict['sm'],envblock_new.operator_dict['sp']))\n",
    "        # Work 4.2 \n",
    "        eigval, eigvec = eigsh(super_ham, k=1,which='SA')\n",
    "        print(eigval/4)\n",
    "        # Work 4.3\n",
    "        eigvec=eigvec.reshape(sysblock_new.basis_size,envblock_new.basis_size)\n",
    "        rho_red=np.matmul(eigvec,np.transpose(eigvec))\n",
    "        # Work 4.4\n",
    "        eval_red,evec_red,info=la.dsyev(rho_red)\n",
    "        tf_matrix=evec_red[:,np.shape(rho_red)[0]-m:np.shape(rho_red)[0]]\n",
    "        # Work 4.5\n",
    "        new_dictionary={'ham':np.matmul(np.matmul(np.transpose(tf_matrix),sysblock_new.operator_dict['ham']),\\\n",
    "                                        tf_matrix),\\\n",
    "                       'sz':np.matmul(np.matmul(np.transpose(tf_matrix),sysblock_new.operator_dict['sz']),\\\n",
    "                                      tf_matrix),\\\n",
    "                       'sp':np.matmul(np.matmul(np.transpose(tf_matrix),sysblock_new.operator_dict['sp']),\\\n",
    "                                      tf_matrix),\\\n",
    "                       'sm':np.matmul(np.matmul(np.transpose(tf_matrix),sysblock_new.operator_dict['sm']),\\\n",
    "                                      tf_matrix),\\\n",
    "                       'id':np.matmul(np.matmul(np.transpose(tf_matrix),sysblock_new.operator_dict['id']),\\\n",
    "                                      tf_matrix)}\n",
    "        # Work 4.6\n",
    "        new_block=Block(number_spins=sysblock_new.number_spins,basis_size=m,operator_dict=new_dictionary)\n",
    "    # Work 5\n",
    "    return(new_block)"
   ]
  },
  {
   "cell_type": "code",
   "execution_count": 8,
   "metadata": {},
   "outputs": [],
   "source": [
    "def finite_dmrg(N,m,sweeps):\n",
    "    \"\"\"\n",
    "    Performs the finite size dmrg function\n",
    "    Attributes\n",
    "        N: number of spins\n",
    "        m: number of largest eigenvalues to stored\n",
    "        sweep: number of sweeps\n",
    "    Returns no parameter, only prints the ground state energy eigenvalues.\n",
    "    \"\"\"\n",
    "    # LR: Left Right\n",
    "    LR_operators={}\n",
    "    # Intialize with the two-qubit Hamiltonian\n",
    "    BlockL=intial_block\n",
    "    # sys: system block, and env: environment block\n",
    "    LR_operators['sys',BlockL.number_spins]=BlockL\n",
    "    LR_operators['env',BlockL.number_spins]=BlockL\n",
    "    # infinite size dmrg step\n",
    "    while BlockL.number_spins<N/2:\n",
    "        BlockL=dmrg_step(BlockL,BlockL,m)\n",
    "        LR_operators['sys',BlockL.number_spins]=BlockL\n",
    "        LR_operators['env',BlockL.number_spins]=BlockL\n",
    "    # Sweep part\n",
    "    system_label='sys'\n",
    "    env_label='env'\n",
    "    system_block=BlockL\n",
    "    del BlockL\n",
    "    for i in range(1,sweeps+1):\n",
    "        env_block=LR_operators[env_label,N-system_block.number_spins-1]\n",
    "        system_block=dmrg_step(system_block,env_block,m)\n",
    "        if env_block.number_spins == 2:\n",
    "            # We've come to the end of the chain, so we reverse course.\n",
    "            system_block, env_block = env_block, system_block\n",
    "            system_label, env_label = env_label, system_label\n",
    "        LR_operators[system_label, system_block.number_spins] = system_block"
   ]
  },
  {
   "cell_type": "code",
   "execution_count": 9,
   "metadata": {},
   "outputs": [
    {
     "name": "stdout",
     "output_type": "stream",
     "text": [
      "[-3.3749326]\n",
      "[-4.25802886]\n",
      "[-4.25802837]\n",
      "[-4.25802843]\n",
      "[-4.25802843]\n",
      "[-4.25802843]\n",
      "[-4.25802843]\n",
      "[-4.25802843]\n",
      "[-4.25802848]\n",
      "[-4.25802848]\n"
     ]
    }
   ],
   "source": [
    "finite_dmrg(10,10,10)"
   ]
  },
  {
   "cell_type": "code",
   "execution_count": null,
   "metadata": {},
   "outputs": [],
   "source": []
  },
  {
   "cell_type": "code",
   "execution_count": null,
   "metadata": {},
   "outputs": [],
   "source": []
  },
  {
   "cell_type": "code",
   "execution_count": null,
   "metadata": {},
   "outputs": [],
   "source": []
  }
 ],
 "metadata": {
  "kernelspec": {
   "display_name": "Python 3 (ipykernel)",
   "language": "python",
   "name": "python3"
  },
  "language_info": {
   "codemirror_mode": {
    "name": "ipython",
    "version": 3
   },
   "file_extension": ".py",
   "mimetype": "text/x-python",
   "name": "python",
   "nbconvert_exporter": "python",
   "pygments_lexer": "ipython3",
   "version": "3.9.13"
  }
 },
 "nbformat": 4,
 "nbformat_minor": 4
}
